{
 "cells": [
  {
   "cell_type": "markdown",
   "metadata": {},
   "source": [
    "# Biblioteka random"
   ]
  },
  {
   "cell_type": "markdown",
   "metadata": {},
   "source": [
    "Biblioteka implementuję pseudo losowy generator liczb dla różnych przedziałów."
   ]
  },
  {
   "cell_type": "code",
   "execution_count": 1,
   "metadata": {},
   "outputs": [],
   "source": [
    "import random"
   ]
  },
  {
   "cell_type": "markdown",
   "metadata": {},
   "source": [
    "## Zapisywanie stanu\n",
    "\n",
    "Biblioteka random posiada 2 funkcje do zapisywania i odtwarzania stanu generatora. Co może być przydatnę w momęcie kiedy chcemy skorzystać z tych samych liczb losowych.\n",
    "\n",
    "random.**getstate**() - Zwraca obiekt generatora z aktualnym stanem\n",
    "\n",
    "random.**setstate**() - przyjmuje obiekt z *getstate* w celu przywrócenia stanu\n",
    "\n",
    "Przykład:"
   ]
  },
  {
   "cell_type": "code",
   "execution_count": 2,
   "metadata": {},
   "outputs": [
    {
     "name": "stdout",
     "output_type": "stream",
     "text": [
      "59\n",
      "98\n",
      "59\n",
      "98\n"
     ]
    }
   ],
   "source": [
    "# zapisuje stan generatora\n",
    "state = random.getstate()\n",
    "\n",
    "print(random.randint(1,100))\n",
    "print(random.randint(1,100))\n",
    "\n",
    "# odtwarzam stan generatora\n",
    "random.setstate(state)\n",
    "\n",
    "print(random.randint(1,100))\n",
    "print(random.randint(1,100))"
   ]
  },
  {
   "cell_type": "markdown",
   "metadata": {},
   "source": [
    "## Funkcje na bytes\n",
    "\n",
    "- randbytes(n)"
   ]
  },
  {
   "cell_type": "code",
   "execution_count": 17,
   "metadata": {},
   "outputs": [
    {
     "name": "stdout",
     "output_type": "stream",
     "text": [
      "b'\\xf1;N\\x9f\\xc9\\xf9w\\x82-\\xb8'\n",
      "Po zamienie na int with byteorder=little: 869754937588723164789745\n",
      "Po zamienie na int with byteorder=big: 1139184345740862904479160\n"
     ]
    }
   ],
   "source": [
    "## funkcja randbytes generuje \"n\" losowym bajtów\n",
    "\n",
    "rand_bytes = random.randbytes(10)\n",
    "print(rand_bytes)\n",
    "print(\"Po zamienie na int with byteorder=little: {}\".format(int.from_bytes(rand_bytes,\"little\"))) ## little - najmniejsze bajty na początku\n",
    "print(\"Po zamienie na int with byteorder=big: {}\".format(int.from_bytes(rand_bytes,\"big\"))) ## big - największe bajty na początku\n",
    "\n",
    "## little/big - zależy od architektury systemu "
   ]
  },
  {
   "cell_type": "markdown",
   "metadata": {},
   "source": [
    "## Funkcje dla int-ow\n",
    "\n",
    "- randrange\n",
    "- randint\n",
    "- getrandbits"
   ]
  },
  {
   "cell_type": "markdown",
   "metadata": {},
   "source": [
    "### random.**Randrange**\n",
    "\n",
    "występuję w 2 kombinacjach:\n",
    "\n",
    "- randrange(*stop*)\n",
    "- randrange(*start*, *stop*[, *step*])\n",
    "\n",
    "zwraca losowy element z przedziału używając range()"
   ]
  },
  {
   "cell_type": "code",
   "execution_count": 21,
   "metadata": {},
   "outputs": [
    {
     "name": "stdout",
     "output_type": "stream",
     "text": [
      "Użycie dla start=5, stop=100: 97\n",
      "Użycie tylko z stop=100: 92\n"
     ]
    }
   ],
   "source": [
    "## Funckja randrange\n",
    "\n",
    "print(\"Użycie dla start=5, stop=100:\", random.randrange(start=5, stop=100))\n",
    "print(\"Użycie tylko z stop=100:\", random.randrange(100))\n"
   ]
  },
  {
   "cell_type": "markdown",
   "metadata": {},
   "source": [
    "### random.**randint**\n",
    "\n",
    "atrybuty: \n",
    "- a\n",
    "- b\n",
    "\n",
    "Zwraca integer z danego przedziału\n",
    "\n",
    "$a \\le N \\le b$\n",
    "\n",
    "alias dla funckcji *randrange(a, b+1)*"
   ]
  },
  {
   "cell_type": "markdown",
   "metadata": {},
   "source": [
    "### random.**getrandbits**\n",
    "\n",
    "atrybuty:\n",
    "- k\n",
    "\n",
    "generuję liczbę całkowitą nieujemną o długości **k** bitów.\n"
   ]
  },
  {
   "cell_type": "code",
   "execution_count": 24,
   "metadata": {},
   "outputs": [
    {
     "name": "stdout",
     "output_type": "stream",
     "text": [
      "911924555\n"
     ]
    }
   ],
   "source": [
    "# przykład\n",
    "\n",
    "print(random.getrandbits(30))"
   ]
  }
 ],
 "metadata": {
  "kernelspec": {
   "display_name": ".venv",
   "language": "python",
   "name": "python3"
  },
  "language_info": {
   "codemirror_mode": {
    "name": "ipython",
    "version": 3
   },
   "file_extension": ".py",
   "mimetype": "text/x-python",
   "name": "python",
   "nbconvert_exporter": "python",
   "pygments_lexer": "ipython3",
   "version": "3.10.2"
  }
 },
 "nbformat": 4,
 "nbformat_minor": 2
}
